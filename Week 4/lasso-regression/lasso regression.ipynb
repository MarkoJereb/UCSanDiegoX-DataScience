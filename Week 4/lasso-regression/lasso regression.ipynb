{
 "cells": [
  {
   "cell_type": "markdown",
   "metadata": {},
   "source": [
    "## Lasso regression"
   ]
  },
  {
   "cell_type": "markdown",
   "metadata": {},
   "source": [
    "#### Week 4, set problem 5\n",
    "\n",
    "The file <b><i>mystery.dat</b></i> contains pairs <b>($x$, $y$)</b>, where $x$ $\\in$ $\\mathbb{R}^{100}$ and $y$ $\\in$ $\\mathbb{R}$. There is one data point per line, with comma-separated values; the very last number in each line is the $y$-value.\n",
    "\n",
    "In this data set, $y$ is a linear function of just ten of the features in $x$, plus some noise. Your job is to identify those ten features.\n",
    "\n",
    "Which of the following contain only relevant features?\n",
    "\n",
    "For relevant feature selection I will use Lasso linear regression algorithm, which usess $L1$ metric for error computation.\n",
    "This type of regularization $(L1)$ can lead to zero coefficients i.e. some of the features are completely neglected for the evaluation of output."
   ]
  },
  {
   "cell_type": "code",
   "execution_count": 16,
   "metadata": {},
   "outputs": [],
   "source": [
    "# libraries for data manipulation or data representation\n",
    "import math \n",
    "import matplotlib.pyplot as plt \n",
    "import pandas as pd\n",
    "import numpy as np\n",
    "from pandas.compat import StringIO\n",
    "\n",
    "# libraries for learning\n",
    "from sklearn.linear_model import Lasso\n",
    "from sklearn.cross_validation import train_test_split"
   ]
  },
  {
   "cell_type": "code",
   "execution_count": 31,
   "metadata": {
    "scrolled": true
   },
   "outputs": [
    {
     "name": "stdout",
     "output_type": "stream",
     "text": [
      "[[-1.14558 -1.29249  0.84911 ...,  1.5532  -1.42135  1.19238]\n",
      " [ 1.38724 -1.00201 -0.3337  ...,  0.81903  0.39286 -3.44094]\n",
      " [ 1.47233  0.8488  -0.33866 ...,  0.08911 -1.72476  3.75006]\n",
      " ..., \n",
      " [-0.83673  0.80514  0.00807 ..., -1.64165  2.04662  1.84121]\n",
      " [ 1.12062  0.68561 -1.08    ...,  1.1926   0.33696  3.53143]\n",
      " [-0.28943 -0.22213 -0.52226 ...,  0.22531  1.72576 -0.55118]]\n"
     ]
    }
   ],
   "source": [
    "# read and store data\n",
    "df = pd.read_csv('mystery.dat', \n",
    "                 sep=\",\", #separator comma\n",
    "                 index_col=0,\n",
    "                 header=None)\n",
    "data = df.reset_index().values\n",
    "print(data)"
   ]
  },
  {
   "cell_type": "code",
   "execution_count": 36,
   "metadata": {},
   "outputs": [
    {
     "name": "stdout",
     "output_type": "stream",
     "text": [
      "(101, 101)\n",
      "(101, 100)\n",
      "(101,)\n"
     ]
    }
   ],
   "source": [
    "# seperate data into feature/label values\n",
    "X = data[:,:100]\n",
    "y = data[:,100]\n",
    "print(data.shape)\n",
    "print(X.shape)\n",
    "print(y.shape)"
   ]
  },
  {
   "cell_type": "code",
   "execution_count": 37,
   "metadata": {
    "collapsed": true
   },
   "outputs": [],
   "source": [
    "# create test and train data sets\n",
    "train_X, test_X, train_y, test_y = train_test_split(X, y, test_size=0.3, random_state=42)"
   ]
  },
  {
   "cell_type": "code",
   "execution_count": 39,
   "metadata": {},
   "outputs": [
    {
     "name": "stdout",
     "output_type": "stream",
     "text": [
      "Training error: 0.2465093128230823\n",
      "Test error: 0.14380730422921983\n",
      "Number of features: 5\n",
      "[-0.          0.          0.          0.          0.         -0.\n",
      "  0.08841838 -0.         -0.         -0.          0.34479077  0.          0.\n",
      "  0.         -0.         -0.          0.26230792 -0.          0.22236035\n",
      "  0.         -0.         -0.          0.26659661  0.         -0.         -0.\n",
      " -0.          0.          0.          0.         -0.          0.          0.\n",
      " -0.         -0.         -0.          0.          0.         -0.         -0.\n",
      " -0.          0.         -0.         -0.          0.         -0.         -0.\n",
      " -0.          0.          0.         -0.          0.          0.          0.\n",
      " -0.          0.         -0.         -0.         -0.          0.          0.\n",
      "  0.          0.         -0.         -0.          0.         -0.         -0.\n",
      "  0.          0.         -0.          0.          0.          0.          0.\n",
      "  0.         -0.          0.         -0.          0.          0.         -0.\n",
      " -0.          0.         -0.         -0.          0.          0.         -0.\n",
      " -0.          0.          0.          0.         -0.          0.          0.\n",
      "  0.          0.         -0.         -0.        ]\n",
      "(array([ 6, 10, 16, 18, 22], dtype=int64),)\n"
     ]
    }
   ],
   "source": [
    "# init. lasso object and fit data\n",
    "lasso_reg = Lasso() # default alpha param. = 1\n",
    "lasso_reg.fit(train_X, train_y)\n",
    "train_err = lasso_reg.score(train_X, train_y)\n",
    "test_err = lasso_reg.score(test_X, test_y)\n",
    "num_coeff = np.sum(lasso_reg.coef_ != 0)\n",
    "\n",
    "print(f\"Training error: {train_err}\\nTest error: {test_err}\\nNumber of features: {num_coeff}\")\n",
    "print(lasso_reg.coef_)\n",
    "print(np.nonzero(lasso_reg.coef_))"
   ]
  },
  {
   "cell_type": "code",
   "execution_count": 46,
   "metadata": {},
   "outputs": [
    {
     "name": "stdout",
     "output_type": "stream",
     "text": [
      "Alpha: 0.0005\n",
      "Training error: 0.999994920022373\n",
      "Test error: 0.21822918175525285\n",
      "Number of features: 75\n",
      "(array([ 1,  2,  3,  4,  5,  6,  7, 10, 12, 13, 14, 15, 16, 18, 19, 20, 21,\n",
      "       22, 23, 24, 26, 27, 28, 29, 30, 31, 32, 34, 35, 36, 38, 40, 41, 42,\n",
      "       43, 45, 47, 48, 49, 52, 53, 54, 57, 58, 59, 60, 61, 62, 63, 66, 67,\n",
      "       68, 70, 71, 72, 73, 75, 77, 78, 80, 81, 83, 84, 85, 86, 88, 89, 90,\n",
      "       91, 92, 93, 94, 95, 96, 98], dtype=int64),)\n",
      "*************************\n",
      "*************************\n",
      "Alpha: 0.005\n",
      "Training error: 0.9995483097739087\n",
      "Test error: 0.31364868671332624\n",
      "Number of features: 71\n",
      "(array([ 1,  2,  3,  4,  5,  6,  7, 10, 11, 12, 13, 14, 15, 16, 18, 19, 20,\n",
      "       21, 22, 23, 24, 26, 27, 28, 29, 30, 31, 32, 34, 36, 38, 40, 42, 43,\n",
      "       45, 47, 48, 49, 52, 53, 54, 57, 58, 60, 61, 62, 63, 66, 67, 68, 70,\n",
      "       71, 72, 73, 75, 77, 78, 80, 81, 83, 84, 85, 86, 88, 89, 90, 91, 93,\n",
      "       94, 96, 98], dtype=int64),)\n",
      "*************************\n",
      "*************************\n",
      "Alpha: 0.05\n",
      "Training error: 0.9838658131402244\n",
      "Test error: 0.5718714724480503\n",
      "Number of features: 46\n",
      "(array([ 1,  2,  3,  4,  5,  6,  7, 10, 12, 14, 15, 16, 18, 20, 21, 22, 28,\n",
      "       30, 31, 34, 38, 43, 44, 47, 48, 49, 50, 53, 54, 56, 57, 59, 63, 67,\n",
      "       68, 71, 72, 73, 75, 78, 80, 85, 89, 93, 95, 96], dtype=int64),)\n",
      "*************************\n",
      "*************************\n",
      "Alpha: 0.5\n",
      "Training error: 0.6870122900600326\n",
      "Test error: 0.5362628234050708\n",
      "Number of features: 10\n",
      "(array([ 1,  2,  4,  6, 10, 12, 16, 18, 22, 28], dtype=int64),)\n",
      "*************************\n",
      "*************************\n"
     ]
    }
   ],
   "source": [
    "# try different alpha values that are smaller than 1\n",
    "for alpha in [0.0005, 0.005, 0.05, 0.5]:\n",
    "    lasso_reg = Lasso(alpha, max_iter=10e5) # default alpha param. = 1\n",
    "    lasso_reg.fit(train_X, train_y)\n",
    "    train_err = lasso_reg.score(train_X, train_y)\n",
    "    test_err = lasso_reg.score(test_X, test_y)\n",
    "    num_coeff = np.sum(lasso_reg.coef_ != 0)\n",
    "    \n",
    "    print(f\"Alpha: {alpha}\")\n",
    "    print(f\"Training error: {train_err}\\nTest error: {test_err}\\nNumber of features: {num_coeff}\")\n",
    "    print(np.nonzero(lasso_reg.coef_))\n",
    "    print(\"*************************\")\n",
    "    print(\"*************************\")"
   ]
  },
  {
   "cell_type": "code",
   "execution_count": null,
   "metadata": {
    "collapsed": true
   },
   "outputs": [],
   "source": []
  }
 ],
 "metadata": {
  "kernelspec": {
   "display_name": "Python 3",
   "language": "python",
   "name": "python3"
  },
  "language_info": {
   "codemirror_mode": {
    "name": "ipython",
    "version": 3
   },
   "file_extension": ".py",
   "mimetype": "text/x-python",
   "name": "python",
   "nbconvert_exporter": "python",
   "pygments_lexer": "ipython3",
   "version": "3.6.2"
  }
 },
 "nbformat": 4,
 "nbformat_minor": 2
}
