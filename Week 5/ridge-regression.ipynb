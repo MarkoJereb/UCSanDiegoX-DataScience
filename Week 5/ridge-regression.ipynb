{
 "cells": [
  {
   "cell_type": "markdown",
   "metadata": {},
   "source": [
    "# Gradient-based solver for ridge regression"
   ]
  },
  {
   "cell_type": "markdown",
   "metadata": {},
   "source": [
    "In this notebook, you will create a **gradient descent** solver for **ridge regression** and then compare it to the built-in solver in `sklearn.linear_model`."
   ]
  },
  {
   "cell_type": "markdown",
   "metadata": {},
   "source": [
    "## 1. Set up notebook and create data set"
   ]
  },
  {
   "cell_type": "markdown",
   "metadata": {},
   "source": [
    "After loading in some standard packages, we create a synthetic data set consisting of data points `(x,y)`:\n",
    "* `x`: 100-dimensional vector whose coordinates are independent draws from a standard normal (Gaussian) distribution\n",
    "* `y`: response value given by `y = wx + e` where `w` is a target regression function and `e` is Gaussian noise\n",
    "\n",
    "We will fix `w` to be the 100-dimensional vector whose first ten coordinates are exactly 1.0, and whose remaining coordinates are zero. Thus only the first ten coordinates of `x` are relevant to the regression task."
   ]
  },
  {
   "cell_type": "code",
   "execution_count": 1,
   "metadata": {
    "collapsed": true
   },
   "outputs": [],
   "source": [
    "%matplotlib inline\n",
    "import numpy as np\n",
    "import matplotlib\n",
    "import matplotlib.pyplot as plt\n",
    "from sklearn import linear_model\n",
    "from sklearn.metrics import mean_squared_error\n",
    "matplotlib.rc('xtick', labelsize=14) \n",
    "matplotlib.rc('ytick', labelsize=14)"
   ]
  },
  {
   "cell_type": "markdown",
   "metadata": {},
   "source": [
    "The following procedure, **generate_data**, creates a data set of a specified number of points. It is invoked as follows:\n",
    "* `trainx, trainy = generate_data(n)`\n",
    "\n",
    "Here:\n",
    "* `n` is the target number of points\n",
    "* `trainx`: `nx100` array of data points\n",
    "* `trainy`: array of `n` response values"
   ]
  },
  {
   "cell_type": "code",
   "execution_count": 2,
   "metadata": {
    "collapsed": true
   },
   "outputs": [],
   "source": [
    "def generate_data(n):\n",
    "    d = 100\n",
    "    w = np.zeros(d)\n",
    "    for i in range(0,10):\n",
    "        w[i] = 1.0\n",
    "    #\n",
    "    trainx = np.random.normal(size=(n,d))\n",
    "    e = np.random.normal(size=(n))\n",
    "    trainy = np.dot(trainx, w) + e\n",
    "    #\n",
    "    return trainx, trainy"
   ]
  },
  {
   "cell_type": "markdown",
   "metadata": {},
   "source": [
    "## 2. Gradient descent solver for ridge regression"
   ]
  },
  {
   "cell_type": "markdown",
   "metadata": {},
   "source": [
    "<font color=\"magenta\">**For you to do:**</font> Define a procedure, **ridge_regression_GD**, that uses gradient descent to solve the ridge regression problem. It is invoked as follows:\n",
    "\n",
    "* `w,b,losses = ridge_regression_GD(x,y,C)`\n",
    "\n",
    "Here, the input consists of:\n",
    "* training data `x,y`, where `x` and `y` are numpy arrays of dimension `n`-by-`d` and `n`, respectively (if there are `n` training points)\n",
    "* regularization constant `C`\n",
    "\n",
    "The function should find the `d`-dimensional vector `w` and offset `b` that minimize the ridge regression loss function (with regularization constant `C`), and return:\n",
    "* `w` and `b`\n",
    "* `losses`, an array containing the ridge regression loss at each iteration\n",
    "\n",
    "<font color=\"magenta\">Advice:</font> First figure out the derivative, which has a relatively simple form. Next, when implementing gradient descent, think carefully about two issues.\n",
    "\n",
    "1. What is the step size?\n",
    "2. When has the procedure converged?\n",
    "\n",
    "Take the time to experiment with different ways of handling these."
   ]
  },
  {
   "cell_type": "code",
   "execution_count": 61,
   "metadata": {
    "collapsed": true
   },
   "outputs": [],
   "source": [
    "def ridgeCost(X, y, w, lmbda):\n",
    "    '''\n",
    "    lost function of ridge regression\n",
    "    in: X -> feature set (matrix),\n",
    "        y -> label set (vector),\n",
    "        w -> feature weights (vector),\n",
    "        lmbda -> lambda parameter for penalizing w (float)\n",
    "    out: cost -> float \n",
    "    '''\n",
    "    m = X.shape[0] # number of points\n",
    "    sq_dif = np.sum((X.dot(w) - y)**2)\n",
    "    cost = (1/(2.0 * m)) * (sq_dif + (lmbda * w.T @ w)) # @ = dot product\n",
    "    \n",
    "    return cost.item(0)\n",
    "\n",
    "def ridge_regression_GD(X, y, w, C, alpha=0.05):\n",
    "    '''\n",
    "    gradient descent for ridge reggression loss function optimization\n",
    "    in: X -> feature set (matrix),\n",
    "        y -> label set (vector),\n",
    "        w -> initial feature weights (vector)\n",
    "        C -> regularization parameter (float)\n",
    "        alpha -> grad. desc. step size (float)\n",
    "    out: w -> feature weights (vector)\n",
    "         b -> intercept (float)\n",
    "         losses -> list of loss/cost for each update of w\n",
    "    '''\n",
    "    m = X.shape[0] # num. of training points\n",
    "    losses = list()\n",
    "        \n",
    "    for i in range(1, 1500):\n",
    "        losses.append(ridgeCost(X, y, w, C))   \n",
    "        w = w - (alpha / m) * (np.dot(X.T, (X.dot(w) - y[:, np.newaxis])) + C * w)\n",
    "    \n",
    "    b = w[0]\n",
    "    w = w[1:]\n",
    "    \n",
    "    return w,b,losses"
   ]
  },
  {
   "cell_type": "markdown",
   "metadata": {},
   "source": [
    "Let's try it out and print a graph of the loss values during the optimization process."
   ]
  },
  {
   "cell_type": "code",
   "execution_count": 91,
   "metadata": {},
   "outputs": [
    {
     "name": "stdout",
     "output_type": "stream",
     "text": [
      "(200, 101), (200,), (101, 1)\n"
     ]
    },
    {
     "data": {
      "image/png": "[encoded data removed]",
      "text/plain": [
       "<Figure size 432x288 with 1 Axes>"
      ]
     },
     "metadata": {},
     "output_type": "display_data"
    },
    {
     "name": "stdout",
     "output_type": "stream",
     "text": [
      "2312.3251716351497\n"
     ]
    }
   ],
   "source": [
    "# Generate 200 data points\n",
    "n = 200\n",
    "x,y = generate_data(n)\n",
    "# init. w\n",
    "w = np.ones((x.shape[1] + 1, 1))\n",
    "# add intercept to X\n",
    "X = np.hstack((np.ones(x.shape[0])[np.newaxis].T, x))\n",
    "print(f\"{X.shape}, {y.shape}, {w.shape}\")\n",
    "# Set regularization constant\n",
    "C = 1.0\n",
    "# Run gradient descent solver\n",
    "w, b, losses = ridge_regression_GD(X, y, w, C)\n",
    "# Plot the losses\n",
    "plt.plot(losses,'r')\n",
    "plt.xlabel('Iterations', fontsize=14)\n",
    "plt.ylabel('Loss', fontsize=14)\n",
    "plt.show()\n",
    "print(losses[-1])"
   ]
  },
  {
   "cell_type": "markdown",
   "metadata": {},
   "source": [
    "<font color=\"magenta\">**Something to think about**</font>\n",
    "\n",
    "1. In setting the step size, does it work to use a fixed schedule 1/t? Why or why not?\n",
    "\n",
    "2. Can you set up the gradient descent procedure in such a way that on each iteration, the loss monotonically decreases?\n"
   ]
  },
  {
   "cell_type": "markdown",
   "metadata": {},
   "source": [
    "## 3. Evaluate the gradient descent solver"
   ]
  },
  {
   "cell_type": "markdown",
   "metadata": {},
   "source": [
    "Now let's compare the regressor found by your gradient descent procedure to that returned by the built-in ridge regression solver in `sklearn`. We will compare them in two ways:\n",
    "* Their MSE values\n",
    "* The distance between the corresponding `w`-vectors\n",
    "\n",
    "The latter should be smaller than 10^{-4}.\n"
   ]
  },
  {
   "cell_type": "code",
   "execution_count": 54,
   "metadata": {
    "collapsed": true
   },
   "outputs": [],
   "source": [
    "def compute_mse(w,b,x,y):\n",
    "    residuals = y - (np.dot(x, w) + b)\n",
    "    return np.dot(residuals, residuals)/n"
   ]
  },
  {
   "cell_type": "code",
   "execution_count": 90,
   "metadata": {},
   "outputs": [
    {
     "name": "stdout",
     "output_type": "stream",
     "text": [
      "MSE of gradient descent solver:  0.534486226721\n",
      "MSE of built-in solver:  0.534264030852\n",
      "Distance between w-coefficients:  0.00352459557361\n"
     ]
    }
   ],
   "source": [
    "# Generate 200 data points\n",
    "n = 200\n",
    "x,y = generate_data(n)\n",
    "# init. w\n",
    "w = np.ones((x.shape[1] + 1, 1))\n",
    "# add intercept to X\n",
    "X = np.hstack((np.ones(x.shape[0])[np.newaxis].T, x))\n",
    "# Set regularization constant\n",
    "C = 10.0\n",
    "# Run gradient descent solver and compute its MSE\n",
    "w_f, b, losses = ridge_regression_GD(X, y, w, C)\n",
    "# Use built-in routine for ridge regression and compute MSE\n",
    "regr = linear_model.Ridge(alpha=C)\n",
    "regr.fit(x, y)\n",
    "w_f = w_f.reshape(100)\n",
    "# Print MSE values and L2 distance between the regression functions\n",
    "print(\"MSE of gradient descent solver: \", compute_mse(w_f,b,x,y))\n",
    "print(\"MSE of built-in solver: \", mean_squared_error(regr.predict(x), y))\n",
    "print(\"Distance between w-coefficients: \", np.linalg.norm(w_f-regr.coef_))"
   ]
  },
  {
   "cell_type": "markdown",
   "metadata": {},
   "source": [
    "<font color=\"magenta\">**Something to think about**</font>\n",
    "\n",
    "The data was originally generated using a linear function in which only ten of the 100 features (the first ten) were relevant. Does the vector `w` returned by ridge regression correctly identify the relevant features?"
   ]
  },
  {
   "cell_type": "code",
   "execution_count": 89,
   "metadata": {},
   "outputs": [
    {
     "name": "stdout",
     "output_type": "stream",
     "text": [
      "[  1.82944091e-01   2.09035149e-01   1.27944702e-01   1.55604832e-01\n",
      "   1.44886619e-01   2.00034567e-01   2.14810650e-01   1.77142072e-01\n",
      "   1.13261508e-01   1.13333946e-01  -3.19818308e-02   2.13800243e-02\n",
      "  -3.87351330e-02   2.64568473e-02   2.22780295e-02  -1.70231369e-02\n",
      "  -3.15756644e-02  -1.07647301e-02   1.89558948e-02  -1.15257982e-02\n",
      "  -1.12790932e-02  -4.82654280e-02  -5.38258800e-02  -1.05097803e-02\n",
      "  -5.18462864e-04   2.14747432e-02  -1.13433053e-02   3.69435813e-02\n",
      "  -3.98228080e-02   6.15363225e-02   3.55211654e-02  -4.59668523e-03\n",
      "   6.33321318e-03  -2.50867149e-02   3.04701484e-02  -2.46833116e-02\n",
      "   4.18628488e-02   1.60197455e-02  -4.60410324e-02   2.64683254e-02\n",
      "   4.34539217e-03  -1.75027426e-02   9.39549870e-05   1.52926200e-02\n",
      "  -3.46525554e-02  -5.72638672e-03   3.35438065e-02  -1.90585212e-02\n",
      "  -1.43591509e-02  -3.18264602e-02   2.90814977e-02   6.36430563e-03\n",
      "   2.55883567e-03  -6.22683303e-02  -1.27189895e-02   1.26695223e-02\n",
      "  -1.64682814e-02  -1.30126285e-03  -2.63993997e-02   2.34520477e-02\n",
      "  -9.16755563e-02   1.34544521e-02   2.94737838e-02   3.64742127e-02\n",
      "   2.19188698e-02   2.79862671e-02  -1.96499404e-02  -1.70746365e-02\n",
      "   3.80484931e-02  -2.34234147e-02  -2.09891289e-03  -2.53641637e-02\n",
      "   3.18949424e-02  -9.73557277e-03   2.94387584e-03  -7.94107871e-02\n",
      "   3.05326287e-02   3.14440706e-02   7.80457787e-02  -2.14487351e-02\n",
      "  -2.98308796e-03   5.02171539e-02   1.94584418e-02   5.01073083e-02\n",
      "   1.04707403e-02   9.90687569e-03  -1.66724032e-02   5.24210329e-02\n",
      "  -3.14655471e-02  -4.65055947e-03  -3.35324795e-03  -4.05294998e-03\n",
      "  -1.48122731e-02  -1.41729370e-02  -1.31174132e-02  -3.96323019e-02\n",
      "  -4.11188786e-02   6.19764589e-03  -7.63004930e-03   3.29174085e-02]\n"
     ]
    }
   ],
   "source": [
    "print(w_f)"
   ]
  },
  {
   "cell_type": "code",
   "execution_count": null,
   "metadata": {
    "collapsed": true
   },
   "outputs": [],
   "source": []
  }
 ],
 "metadata": {
  "kernelspec": {
   "display_name": "Python 3",
   "language": "python",
   "name": "python3"
  },
  "language_info": {
   "codemirror_mode": {
    "name": "ipython",
    "version": 3
   },
   "file_extension": ".py",
   "mimetype": "text/x-python",
   "name": "python",
   "nbconvert_exporter": "python",
   "pygments_lexer": "ipython3",
   "version": "3.6.2"
  },
  "toc": {
   "colors": {
    "hover_highlight": "#DAA520",
    "navigate_num": "#000000",
    "navigate_text": "#333333",
    "running_highlight": "#FF0000",
    "selected_highlight": "#FFD700",
    "sidebar_border": "#EEEEEE",
    "wrapper_background": "#FFFFFF"
   },
   "moveMenuLeft": true,
   "nav_menu": {
    "height": "12px",
    "width": "252px"
   },
   "navigate_menu": true,
   "number_sections": false,
   "sideBar": true,
   "threshold": 4,
   "toc_cell": false,
   "toc_section_display": "block",
   "toc_window_display": false,
   "widenNotebook": false
  }
 },
 "nbformat": 4,
 "nbformat_minor": 2
}
